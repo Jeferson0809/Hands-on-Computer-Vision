{
  "cells": [
    {
      "cell_type": "markdown",
      "metadata": {
        "id": "gS5IZFk9LTfJ"
      },
      "source": [
        "![banner](https://github.com/Jeferson0809/Hands-on-Computer-Vision/blob/main/sesiones/sesion3/banner.png?raw=1)\n"
      ]
    },
    {
      "cell_type": "markdown",
      "metadata": {
        "id": "AcRZEsRLRwiG"
      },
      "source": [
        "# 🖥️✨ **Librerias importantes de Visión por Computadora**  \n",
        "\n",
        "🔹 **TorchVision** - Base principal para tareas de visión por computadora.  \n",
        "📂 **torchvision.datasets** - Accede a conjuntos de datos y carga de datos para visión por computadora.  \n",
        "🤖 **torchvision.models** - Modelos pre-entrenados listos para usar en tareas de visión por computadora.  \n",
        "🎨 **torchvision.transforms** - Transformaciones para el procesamiento de imágenes.  \n",
        "📦 **torch.utils.data.Dataset** - Clase base para crear conjuntos de datos en PyTorch.  \n",
        "🔄 **torch.utils.data.DataLoader** - Crea un iterable en Python para recorrer un conjunto de datos.  \n"
      ]
    },
    {
      "cell_type": "code",
      "execution_count": 1,
      "metadata": {
        "id": "xjOhv5DTQ-ee"
      },
      "outputs": [],
      "source": [
        "## @title Librerias importantes\n",
        "import torch\n",
        "from torch import nn\n",
        "import matplotlib.pyplot as plt\n",
        "import torchvision\n",
        "from torchvision import datasets\n",
        "from torchvision import transforms\n",
        "from torchvision.transforms import ToTensor\n",
        "from torch.utils.data import DataLoader"
      ]
    },
    {
      "cell_type": "code",
      "execution_count": 6,
      "metadata": {
        "id": "v1BknNLjXNPy"
      },
      "outputs": [],
      "source": [
        "## @title Primer Modelo\n",
        "import torch.nn as nn\n",
        "\n",
        "class ModelCV(nn.Module):\n",
        "    def __init__(self, input_shape: int, hidden_units: int, output_shape: int):\n",
        "        super().__init__()\n",
        "\n",
        "        self.flatten = nn.Flatten()\n",
        "        self.fc1 = nn.Linear(in_features=input_shape, out_features=hidden_units)\n",
        "        self.relu = nn.ReLU() # Funcion de activacion\n",
        "        self.fc2 = nn.Linear(in_features=hidden_units, out_features=output_shape)\n",
        "\n",
        "    def forward(self, x):\n",
        "        # x = self.flatten(x)\n",
        "        # x = self.fc1(x)\n",
        "        # x = self.fc2(x)\n",
        "        # return x\n",
        "        return self.fc2(self.relu(self.fc1(self.flatten(x))))"
      ]
    },
    {
      "cell_type": "code",
      "execution_count": 7,
      "metadata": {
        "colab": {
          "base_uri": "https://localhost:8080/"
        },
        "id": "lTLYmA0_Xt0W",
        "outputId": "5ac1d75f-9b93-49d4-ee16-743cfa87ad13"
      },
      "outputs": [
        {
          "output_type": "execute_result",
          "data": {
            "text/plain": [
              "ModelCV(\n",
              "  (flatten): Flatten(start_dim=1, end_dim=-1)\n",
              "  (fc1): Linear(in_features=1, out_features=10, bias=True)\n",
              "  (relu): ReLU()\n",
              "  (fc2): Linear(in_features=10, out_features=1, bias=True)\n",
              ")"
            ]
          },
          "metadata": {},
          "execution_count": 7
        }
      ],
      "source": [
        "model = ModelCV(input_shape=1, hidden_units=10, output_shape=1)\n",
        "# model.state_dict()\n",
        "model"
      ]
    },
    {
      "cell_type": "markdown",
      "metadata": {
        "id": "HvZqyhGGYpIy"
      },
      "source": [
        "# 🎛️ Capas Convolucionales (Convolutional Layers)\n",
        "\n",
        "🛠️ **Parámetros clave:**  \n",
        "- 🏗️ **Tamaño del kernel:** Define la región de la imagen que analiza cada filtro.  \n",
        "- ⚙️ **Stride (desplazamiento):** Determina cuánto se mueve el filtro en cada paso.  \n",
        "- 🔲 **Padding:** Agrega píxeles alrededor de la imagen para mantener su tamaño.\n",
        "\n",
        "https://poloclub.github.io/cnn-explainer/"
      ]
    },
    {
      "cell_type": "code",
      "execution_count": 8,
      "metadata": {
        "id": "wE8faji6YoZ1"
      },
      "outputs": [],
      "source": [
        "# Cambia las partes que digan \"FIXME\"\n",
        "class ModelCV2(nn.Module):\n",
        "  def __init__(self, input_shape: int, hidden_units: int, output_shape: int):\n",
        "    super().__init__()\n",
        "    self.conv1 = nn.Conv2d(in_channels=input_shape, out_channels=hidden_units, kernel_size=3, stride=1, padding=0)\n",
        "    self.relu1 = nn.ReLU() # cambialo si quieres\n",
        "    self.flatten = nn.Flatten()\n",
        "    self.fc1 = nn.Linear(in_features=26*26*hidden_units, out_features=hidden_units)\n",
        "    self.relu2 = nn.ReLU()\n",
        "    self.fc2 = nn.Linear(in_features=hidden_units, out_features=output_shape)\n",
        "\n",
        "  def forward(self, x):\n",
        "    return self.fc2(self.relu2(self.fc1(self.flatten(self.relu1(self.conv1(x))))))"
      ]
    },
    {
      "cell_type": "markdown",
      "metadata": {
        "id": "gN9jjMI5BlOG"
      },
      "source": [
        "## 📂 Obteniendo un Dataset  \n",
        "\n",
        "El dataset que utilizaremos es **Fashion MNIST**, proveniente de `torchvision.datasets`.  \n",
        "\n",
        "🛍️ **Fashion MNIST** es una colección de imágenes en escala de grises que representa diferentes categorías de ropa y accesorios. Es una alternativa moderna al clásico **MNIST** de dígitos escritos a mano.  \n",
        "\n",
        "📌 **Fuente:** `torchvision.datasets`  \n"
      ]
    },
    {
      "cell_type": "code",
      "execution_count": 9,
      "metadata": {
        "colab": {
          "base_uri": "https://localhost:8080/"
        },
        "id": "M2CHxsV6Bi__",
        "outputId": "bda94db9-769b-4961-a9a1-1712525f8016"
      },
      "outputs": [
        {
          "output_type": "stream",
          "name": "stderr",
          "text": [
            "100%|██████████| 26.4M/26.4M [00:01<00:00, 13.3MB/s]\n",
            "100%|██████████| 29.5k/29.5k [00:00<00:00, 208kB/s]\n",
            "100%|██████████| 4.42M/4.42M [00:01<00:00, 3.85MB/s]\n",
            "100%|██████████| 5.15k/5.15k [00:00<00:00, 8.76MB/s]\n"
          ]
        }
      ],
      "source": [
        "#Training y Testing Data\n",
        "train_data = datasets.FashionMNIST(root = \"data\",\n",
        "                                   train=True, # train dataset\n",
        "                                   download = True,\n",
        "                                   transform = ToTensor(), # posibles transformaciones\n",
        "                                   target_transform=None\n",
        "                                   )\n",
        "\n",
        "test_data = datasets.FashionMNIST(root=\"data\",\n",
        "                                  train=False,\n",
        "                                  download=True,\n",
        "                                  transform=ToTensor(),\n",
        "                                  target_transform=None\n",
        "                                  )"
      ]
    },
    {
      "cell_type": "code",
      "execution_count": 10,
      "metadata": {
        "colab": {
          "base_uri": "https://localhost:8080/"
        },
        "id": "uDicEdtPB5-a",
        "outputId": "a24538af-4f27-4984-9ba5-f4786c2f79a5"
      },
      "outputs": [
        {
          "output_type": "execute_result",
          "data": {
            "text/plain": [
              "['T-shirt/top',\n",
              " 'Trouser',\n",
              " 'Pullover',\n",
              " 'Dress',\n",
              " 'Coat',\n",
              " 'Sandal',\n",
              " 'Shirt',\n",
              " 'Sneaker',\n",
              " 'Bag',\n",
              " 'Ankle boot']"
            ]
          },
          "metadata": {},
          "execution_count": 10
        }
      ],
      "source": [
        "class_names = train_data.classes\n",
        "class_names"
      ]
    },
    {
      "cell_type": "code",
      "execution_count": 11,
      "metadata": {
        "colab": {
          "base_uri": "https://localhost:8080/",
          "height": 445
        },
        "id": "nTbRcga1B753",
        "outputId": "21764a88-e934-4638-a0c9-ec80d1633377"
      },
      "outputs": [
        {
          "output_type": "stream",
          "name": "stdout",
          "text": [
            "image shape: torch.Size([1, 28, 28])\n"
          ]
        },
        {
          "output_type": "display_data",
          "data": {
            "text/plain": [
              "<Figure size 640x480 with 1 Axes>"
            ],
            "image/png": "[encoded data removed]"
          },
          "metadata": {}
        }
      ],
      "source": [
        "image, label = train_data[0] # Visualizacion\n",
        "print(f\"image shape: {image.shape}\") # dimension de una imagen\n",
        "plt.imshow(image.squeeze())\n",
        "plt.title(class_names[label])\n",
        "plt.axis(\"off\")\n",
        "plt.show()"
      ]
    },
    {
      "cell_type": "markdown",
      "metadata": {
        "id": "cvr5u1IjJ34_"
      },
      "source": [
        "### 👀 Visualización del Dataset  \n",
        "\n",
        "Para entender mejor los datos, vamos a visualizar algunas imágenes del **Fashion MNIST**.  \n",
        "\n",
        "🎨 Vamos a graficar algunas muestras para observar su apariencia y distribución.  \n"
      ]
    },
    {
      "cell_type": "code",
      "execution_count": 12,
      "metadata": {
        "colab": {
          "base_uri": "https://localhost:8080/",
          "height": 752
        },
        "id": "nvvHxcVKCPLS",
        "outputId": "2ea3b0d3-086d-46dc-ca57-aaf80bd3e271"
      },
      "outputs": [
        {
          "output_type": "display_data",
          "data": {
            "text/plain": [
              "<Figure size 900x900 with 9 Axes>"
            ],
            "image/png": "[encoded data removed]"
          },
          "metadata": {}
        }
      ],
      "source": [
        "#VISUALIZE VISUALIZE VISUALIZE\n",
        "torch.manual_seed(42)\n",
        "\n",
        "fig = plt.figure(figsize=(9,9))\n",
        "rows, cols = 3, 3 # cuantas imagenes quieras ver...\n",
        "for i in range(1, rows*cols+1):\n",
        "  random_idx = torch.randint(0, len(train_data), size=[1]).item()\n",
        "  img, label = train_data[random_idx]\n",
        "  fig.add_subplot(rows, cols, i)\n",
        "  plt.imshow(img.squeeze(), cmap=\"gray\")\n",
        "  plt.title(class_names[label])\n",
        "  plt.axis(False)"
      ]
    },
    {
      "cell_type": "code",
      "execution_count": 13,
      "metadata": {
        "colab": {
          "base_uri": "https://localhost:8080/"
        },
        "id": "dsL9t4L-CZwk",
        "outputId": "10a7077d-eae8-4bfe-fcac-aa7c009f1b1e"
      },
      "outputs": [
        {
          "output_type": "execute_result",
          "data": {
            "text/plain": [
              "(Dataset FashionMNIST\n",
              "     Number of datapoints: 60000\n",
              "     Root location: data\n",
              "     Split: Train\n",
              "     StandardTransform\n",
              " Transform: ToTensor(),\n",
              " Dataset FashionMNIST\n",
              "     Number of datapoints: 10000\n",
              "     Root location: data\n",
              "     Split: Test\n",
              "     StandardTransform\n",
              " Transform: ToTensor())"
            ]
          },
          "metadata": {},
          "execution_count": 13
        }
      ],
      "source": [
        "train_data, test_data"
      ]
    },
    {
      "cell_type": "markdown",
      "metadata": {
        "id": "MAU2uwhWMhcy"
      },
      "source": [
        "### 🚂 TrainDataloader y TestDataloader  \n",
        "\n",
        "Para entrenar y evaluar nuestro modelo, necesitamos **dataloaders** que nos ayuden a manejar los datos de manera eficiente.  \n",
        "\n",
        "🔄 **TrainDataloader**:  \n",
        "Se encarga de cargar los datos de entrenamiento en **lotes (batches)**, permitiendo el procesamiento en paralelo y la optimización del rendimiento.  \n",
        "\n",
        "🧪 **TestDataloader**:  \n",
        "Nos permite evaluar el modelo con datos de prueba para medir su precisión y rendimiento.  \n",
        "\n",
        "📌 Estos dataloaders provienen de `torch.utils.data.DataLoader`, que facilita la iteración sobre los datasets de `torchvision.datasets`.  \n"
      ]
    },
    {
      "cell_type": "code",
      "execution_count": 14,
      "metadata": {
        "colab": {
          "base_uri": "https://localhost:8080/"
        },
        "id": "ANqU18hECf_N",
        "outputId": "03c3b7e1-a8e5-4bb6-84ea-fe13303bd1d6"
      },
      "outputs": [
        {
          "output_type": "execute_result",
          "data": {
            "text/plain": [
              "(<torch.utils.data.dataloader.DataLoader at 0x79e464fb7b10>,\n",
              " <torch.utils.data.dataloader.DataLoader at 0x79e464fb6990>)"
            ]
          },
          "metadata": {},
          "execution_count": 14
        }
      ],
      "source": [
        "BATCH_SIZE = 32 # Numero de imagenes por Batch\n",
        "\n",
        "#turn datasets into iterables (batches)\n",
        "\n",
        "train_dataloader = DataLoader(dataset = train_data,\n",
        "                          batch_size = BATCH_SIZE,\n",
        "                          shuffle=True)\n",
        "test_dataloader = DataLoader(dataset = test_data,\n",
        "                         batch_size = BATCH_SIZE,\n",
        "                         shuffle = False)\n",
        "\n",
        "train_dataloader, test_dataloader"
      ]
    },
    {
      "cell_type": "code",
      "execution_count": 15,
      "metadata": {
        "colab": {
          "base_uri": "https://localhost:8080/"
        },
        "id": "ylPuFxH4ClgW",
        "outputId": "20a05b56-b3cb-423f-fbf1-fd52d8a86cbf"
      },
      "outputs": [
        {
          "output_type": "stream",
          "name": "stdout",
          "text": [
            "DataLoaders: (<torch.utils.data.dataloader.DataLoader object at 0x79e464fb7b10>, <torch.utils.data.dataloader.DataLoader object at 0x79e464fb7b10>)\n",
            "Length of train_dataloader: 1875 batches of 32...\n",
            "Length of test_dataloader: 313 batches of 32...\n"
          ]
        }
      ],
      "source": [
        "# Veamos lo que acabamos de crear\n",
        "\n",
        "print(f\"DataLoaders: {train_dataloader,train_dataloader }\")\n",
        "print(f\"Length of train_dataloader: {len(train_dataloader)} batches of {BATCH_SIZE}...\")\n",
        "print(f\"Length of test_dataloader: {len(test_dataloader)} batches of {BATCH_SIZE}...\")"
      ]
    },
    {
      "cell_type": "code",
      "execution_count": 16,
      "metadata": {
        "colab": {
          "base_uri": "https://localhost:8080/"
        },
        "id": "a8a4WqNUCpMf",
        "outputId": "436bd8b9-f199-4aa3-915b-6eadf5281af2"
      },
      "outputs": [
        {
          "output_type": "execute_result",
          "data": {
            "text/plain": [
              "(torch.Size([32, 1, 28, 28]), torch.Size([32]))"
            ]
          },
          "metadata": {},
          "execution_count": 16
        }
      ],
      "source": [
        "# veamos que hay dentro del traindataloader\n",
        "train_features_batch, train_labels_batch = next(iter(train_dataloader))\n",
        "train_features_batch.shape, train_labels_batch.shape"
      ]
    },
    {
      "cell_type": "code",
      "execution_count": 17,
      "metadata": {
        "id": "-onsQVbSrdsc"
      },
      "outputs": [],
      "source": [
        "# img_prueba = torch.rand(size=(32,1,28,28))\n",
        "# print(img_prueba.shape)\n",
        "# labels_len = len(class_names)\n",
        "# model = ModelCV2(input_shape=1, hidden_units=64, output_shape=labels_len)\n",
        "# salida = model(img_prueba)"
      ]
    },
    {
      "cell_type": "code",
      "execution_count": 19,
      "metadata": {
        "id": "psdl-jBTrehK",
        "outputId": "a12d42f5-114a-42ae-9898-2588fc5d584c",
        "colab": {
          "base_uri": "https://localhost:8080/"
        }
      },
      "outputs": [
        {
          "output_type": "execute_result",
          "data": {
            "text/plain": [
              "ModelCV2(\n",
              "  (conv1): Conv2d(1, 64, kernel_size=(3, 3), stride=(1, 1))\n",
              "  (relu1): ReLU()\n",
              "  (flatten): Flatten(start_dim=1, end_dim=-1)\n",
              "  (fc1): Linear(in_features=43264, out_features=64, bias=True)\n",
              "  (relu2): ReLU()\n",
              "  (fc2): Linear(in_features=64, out_features=10, bias=True)\n",
              ")"
            ]
          },
          "metadata": {},
          "execution_count": 19
        }
      ],
      "source": [
        "model = ModelCV2(input_shape=1, hidden_units=64, output_shape=len(class_names))\n",
        "model"
      ]
    },
    {
      "cell_type": "markdown",
      "metadata": {
        "id": "vVZgfogoMs2z"
      },
      "source": [
        "## 🎯 Elección de la Función de Pérdida y el Optimizador  \n",
        "\n",
        "Para entrenar nuestra red neuronal, necesitamos definir:\n",
        "\n",
        "📌 En PyTorch, podemos encontrar múltiples opciones en `torch.nn` (para la pérdida) y `torch.optim` (para el optimizador).  "
      ]
    },
    {
      "cell_type": "code",
      "execution_count": 21,
      "metadata": {
        "id": "z7zvzwyErjO3"
      },
      "outputs": [],
      "source": [
        "loss_fn = nn.CrossEntropyLoss()\n",
        "optimizer = torch.optim.SGD(params = model.parameters(), lr = 0.1)"
      ]
    },
    {
      "cell_type": "code",
      "execution_count": 22,
      "metadata": {
        "id": "Ozgtwf7BvjoU",
        "outputId": "2e2dbad4-d9f1-4e9c-a070-4cec8a448577",
        "colab": {
          "base_uri": "https://localhost:8080/",
          "height": 35
        }
      },
      "outputs": [
        {
          "output_type": "execute_result",
          "data": {
            "text/plain": [
              "'cpu'"
            ],
            "application/vnd.google.colaboratory.intrinsic+json": {
              "type": "string"
            }
          },
          "metadata": {},
          "execution_count": 22
        }
      ],
      "source": [
        "# Agnostic Code\n",
        "device = \"cuda\" if torch.cuda.is_available() else \"cpu\"\n",
        "device"
      ]
    },
    {
      "cell_type": "code",
      "execution_count": 23,
      "metadata": {
        "id": "q_eGeCfPviJs"
      },
      "outputs": [],
      "source": [
        "# NO modifiques esta celda ♥\n",
        "def accuracy_fn(y_true, y_pred):\n",
        "  correct = torch.eq(y_true, y_pred).sum().item()\n",
        "  acc = (correct/len(y_pred)) * 100\n",
        "  return acc"
      ]
    },
    {
      "cell_type": "markdown",
      "metadata": {
        "id": "C9TLWnjcNC_L"
      },
      "source": [
        "# 🚀 Entrenamiento del Modelo  \n",
        "\n",
        "Ahora entrenaremos nuestra red neuronal para que aprenda a clasificar las imágenes del dataset.  \n",
        "\n",
        "🔄 **Proceso de entrenamiento:**  \n",
        "1️⃣ Se envían imágenes al modelo.  \n",
        "2️⃣ El modelo realiza predicciones.  \n",
        "3️⃣ Se calcula la **pérdida (loss)** comparando predicciones con etiquetas reales.  \n",
        "4️⃣ Se ajustan los pesos con el **optimizador**.  \n",
        "5️⃣ Se repite el proceso en varias **épocas (epochs)** hasta mejorar el desempeño.  \n"
      ]
    },
    {
      "cell_type": "code",
      "execution_count": 24,
      "metadata": {
        "id": "x7SmLESZtObr",
        "outputId": "12fb44cf-fdd4-497d-b235-3a537036c48d",
        "colab": {
          "base_uri": "https://localhost:8080/",
          "height": 66,
          "referenced_widgets": [
            "a2020ac139fd427785010a07e56a0103",
            "d906e3bcb43e4efaab4430b1ccde2e8e",
            "fe0c84f62ec4419ab7d3aceec305b546",
            "f302b83e6411410fabb8f46018267933",
            "90054b0ccd93489eb106542e9b2abb45",
            "219f94e3fb844560a12090f4b41430de",
            "3226c83864b74f36933040693b4d848a",
            "821121717bd241d7b76228386a1717c7",
            "2f069f947233462c8099ff25ab55d6a9",
            "e3b6222becd74c6e8895e34c63f67453",
            "3e7f0c5f97d844c588b18d0293502b29"
          ]
        }
      },
      "outputs": [
        {
          "output_type": "display_data",
          "data": {
            "text/plain": [
              "  0%|          | 0/1 [00:00<?, ?it/s]"
            ],
            "application/vnd.jupyter.widget-view+json": {
              "version_major": 2,
              "version_minor": 0,
              "model_id": "a2020ac139fd427785010a07e56a0103"
            }
          },
          "metadata": {}
        },
        {
          "output_type": "stream",
          "name": "stdout",
          "text": [
            "epoch: 0 | Train loss: 0.49852, train acc: 81.53 | Test loss: 0.37116, test acc: 86.65\n"
          ]
        }
      ],
      "source": [
        "from tqdm.auto import tqdm\n",
        "torch.manual_seed(42)\n",
        "epochs = 1\n",
        "\n",
        "for epoch in tqdm(range(epochs)):\n",
        "  train_loss = 0\n",
        "  train_acc = 0\n",
        "  for batch, (X_train, y_train) in enumerate(train_dataloader):\n",
        "    model.train()\n",
        "    X_train, y_train = X_train.to(device), y_train.to(device)\n",
        "    y_train_logits = model(X_train) #forward pass\n",
        "\n",
        "    # calculamos la funcion de perdida\n",
        "    loss = loss_fn(y_train_logits, y_train)\n",
        "    train_loss += loss\n",
        "    train_acc += accuracy_fn(y_true = y_train, y_pred = y_train_logits.argmax(dim=1))\n",
        "    # optimizer zero grad\n",
        "    optimizer.zero_grad()\n",
        "    # retropropagacion\n",
        "    loss.backward()\n",
        "    # optimizer step step step\n",
        "    optimizer.step()\n",
        "  train_loss /= len(train_dataloader)\n",
        "  train_acc /= len(train_dataloader)\n",
        "  model.eval()\n",
        "  with torch.no_grad():\n",
        "    test_loss = 0\n",
        "    test_acc = 0\n",
        "    for X_test, y_test in test_dataloader:\n",
        "      X_test, y_test = X_test.to(device), y_test.to(device)\n",
        "      #forward pass\n",
        "      y_test_logits = model(X_test)\n",
        "      # calcular la loss\n",
        "      test_loss += loss_fn(y_test_logits, y_test)\n",
        "      test_acc += accuracy_fn(y_true = y_test, y_pred = y_test_logits.argmax(dim=1))\n",
        "    test_loss /= len(test_dataloader)\n",
        "    test_acc /= len(test_dataloader)\n",
        "  print(f\"epoch: {epoch} | Train loss: {train_loss:.5f}, train acc: {train_acc:.2f} | Test loss: {test_loss:.5f}, test acc: {test_acc:.2f}\")"
      ]
    },
    {
      "cell_type": "markdown",
      "metadata": {
        "id": "0pvwP0_2NPnx"
      },
      "source": [
        "# 📊 Evaluación del Modelo  \n",
        "\n",
        "Después del entrenamiento, es momento de evaluar el desempeño de nuestra red neuronal.  \n",
        "\n",
        "🛠️ **Proceso de evaluación:**  \n",
        "1️⃣ Se usa el **TestDataloader** para pasar imágenes de prueba al modelo.  \n",
        "2️⃣ Se comparan las predicciones con las etiquetas reales.  \n",
        "3️⃣ Se calcula la **precisión (accuracy)** y otras métricas de rendimiento.  \n",
        "\n",
        "📌 Esto nos ayuda a entender si el modelo **generaliza bien** o si necesita mejoras.  "
      ]
    },
    {
      "cell_type": "code",
      "execution_count": 25,
      "metadata": {
        "id": "EDF1QNqnvULg",
        "outputId": "ff57c5a1-8b87-4299-a910-4a270eab2afc",
        "colab": {
          "base_uri": "https://localhost:8080/",
          "height": 101,
          "referenced_widgets": [
            "1af0e4199c874f64add2c59a6d5491e0",
            "2b385f31e215445dba8b3df1bb102509",
            "a8202776b46c449e95240d63bfe90896",
            "4973a8a0bf5f45d8a4c1d50008f76c3f",
            "795b6edd76bb43f08aabf35f4bf2fb5b",
            "0530204519e8419791e62bef1c205c0c",
            "7e9b2689a6ee4345a0f58d34dc906c02",
            "1212c95a4fbd4cb5bb4bab9c116686f0",
            "5811058914bb460e94d167f9cd419397",
            "8dffb861a4f640cdb48ecfa66f5225cd",
            "9f4a264fb161474c84a7d6cbd8c6b0b4"
          ]
        }
      },
      "outputs": [
        {
          "output_type": "display_data",
          "data": {
            "text/plain": [
              "  0%|          | 0/313 [00:00<?, ?it/s]"
            ],
            "application/vnd.jupyter.widget-view+json": {
              "version_major": 2,
              "version_minor": 0,
              "model_id": "1af0e4199c874f64add2c59a6d5491e0"
            }
          },
          "metadata": {}
        },
        {
          "output_type": "execute_result",
          "data": {
            "text/plain": [
              "{'model_name': 'ModelCV2',\n",
              " 'model_loss': 0.37116196751594543,\n",
              " 'model_acc': 86.65135782747603}"
            ]
          },
          "metadata": {},
          "execution_count": 25
        }
      ],
      "source": [
        "torch.manual_seed(42)\n",
        "\n",
        "def eval_model(model:torch.nn.Module,\n",
        "               data_loader: torch.utils.data.DataLoader,\n",
        "               loss_fn: torch.nn.Module,\n",
        "               accuracy_fn):\n",
        "    \"\"\" retorna un diccionario que contiene las predicciones del modelo\"\"\"\n",
        "    loss, acc = 0, 0\n",
        "    model.eval()\n",
        "\n",
        "    with torch.no_grad():\n",
        "      for X, y in tqdm(data_loader):\n",
        "        #make predictions\n",
        "        y_pred = model(X)\n",
        "\n",
        "        # Accumulate the loss and acc values per batch\n",
        "\n",
        "        loss += loss_fn(y_pred, y)\n",
        "        acc += accuracy_fn(y_true = y, y_pred = y_pred.argmax(dim=1))\n",
        "      # scale the loss and acc to find the average loss and acc per batch\n",
        "\n",
        "      loss /= len(data_loader)\n",
        "      acc /= len(data_loader)\n",
        "    return {\"model_name\": model.__class__.__name__,\n",
        "            \"model_loss\": loss.item(),\n",
        "            \"model_acc\": acc}\n",
        "model_0_results = eval_model(model=model,\n",
        "                             data_loader = test_dataloader,\n",
        "                             loss_fn =  loss_fn,\n",
        "                             accuracy_fn=accuracy_fn)\n",
        "model_0_results"
      ]
    },
    {
      "cell_type": "markdown",
      "metadata": {
        "id": "VHMUbLLPNkpL"
      },
      "source": [
        "## 🎨 Visualización de las Predicciones del Modelo  \n",
        "\n",
        "Para entender mejor el desempeño del modelo, vamos a **visualizar algunas predicciones**.  \n",
        "\n",
        "📸 **Proceso:**  \n",
        "1️⃣ Tomamos algunas imágenes del conjunto de prueba.  \n",
        "2️⃣ El modelo genera una predicción para cada imagen.  \n",
        "3️⃣ Comparamos la predicción con la etiqueta real.  \n",
        "4️⃣ Mostramos las imágenes junto con sus etiquetas y predicciones.  \n",
        "\n",
        "📌 Esto nos permite identificar posibles **errores** y mejorar el modelo si es necesario.  \n"
      ]
    },
    {
      "cell_type": "code",
      "execution_count": 26,
      "metadata": {
        "id": "V_z3lCdjwrsV"
      },
      "outputs": [],
      "source": [
        "# NO modifiques esta celda ♥\n",
        "def make_predictions(model:torch.nn.Module,\n",
        "                     data: list,\n",
        "                     device: torch.device = device):\n",
        "  pred_probs = []\n",
        "  model.to(device)\n",
        "  model.eval()\n",
        "  with torch.no_grad():\n",
        "    for sample in data:\n",
        "      #add a bacth dimension and pass to target device\n",
        "      sample = torch.unsqueeze(sample, dim=0).to(device)\n",
        "\n",
        "      pred_logit =  model(sample)\n",
        "\n",
        "      pred_prob = torch.softmax(pred_logit.squeeze(), dim=0)\n",
        "\n",
        "      #get pred_prob off the gpu\n",
        "      pred_probs.append(pred_prob.cpu())\n",
        "\n",
        "  #stack the pred_probs to turn list into a tensor\n",
        "  return torch.stack(pred_probs)"
      ]
    },
    {
      "cell_type": "code",
      "execution_count": 27,
      "metadata": {
        "id": "69e9M5HNwzCF",
        "outputId": "6ef80e32-f918-44da-f7c0-a6cc66ead7ab",
        "colab": {
          "base_uri": "https://localhost:8080/"
        }
      },
      "outputs": [
        {
          "output_type": "execute_result",
          "data": {
            "text/plain": [
              "Dataset FashionMNIST\n",
              "    Number of datapoints: 10000\n",
              "    Root location: data\n",
              "    Split: Test\n",
              "    StandardTransform\n",
              "Transform: ToTensor()"
            ]
          },
          "metadata": {},
          "execution_count": 27
        }
      ],
      "source": [
        "test_data"
      ]
    },
    {
      "cell_type": "code",
      "execution_count": 28,
      "metadata": {
        "id": "IALu1obTwz_J",
        "outputId": "bc813485-5314-45dd-e53a-639a8a72d591",
        "colab": {
          "base_uri": "https://localhost:8080/"
        }
      },
      "outputs": [
        {
          "output_type": "execute_result",
          "data": {
            "text/plain": [
              "torch.Size([1, 28, 28])"
            ]
          },
          "metadata": {},
          "execution_count": 28
        }
      ],
      "source": [
        "import random\n",
        "# random.seed(42)\n",
        "test_samples = []\n",
        "test_labels = []\n",
        "for sample, label in random.sample(list(test_data), k=9):\n",
        "  test_samples.append(sample)\n",
        "  test_labels.append(label)\n",
        "test_samples[0].shape"
      ]
    },
    {
      "cell_type": "code",
      "execution_count": 30,
      "metadata": {
        "id": "REXUjOm-w1Bw",
        "outputId": "0189d1b7-58b2-4907-bf0b-40a3933b4575",
        "colab": {
          "base_uri": "https://localhost:8080/",
          "height": 469
        }
      },
      "outputs": [
        {
          "output_type": "execute_result",
          "data": {
            "text/plain": [
              "Text(0.5, 1.0, 'Bag')"
            ]
          },
          "metadata": {},
          "execution_count": 30
        },
        {
          "output_type": "display_data",
          "data": {
            "text/plain": [
              "<Figure size 640x480 with 1 Axes>"
            ],
            "image/png": "[encoded data removed]"
          },
          "metadata": {}
        }
      ],
      "source": [
        "plt.imshow(test_samples[0].squeeze(), cmap=\"gray\")\n",
        "plt.title(class_names[test_labels[0]])"
      ]
    },
    {
      "cell_type": "code",
      "execution_count": 32,
      "metadata": {
        "id": "Z4cR3y97w1_o",
        "outputId": "0f140468-e36b-4228-c717-db8040e47e04",
        "colab": {
          "base_uri": "https://localhost:8080/"
        }
      },
      "outputs": [
        {
          "output_type": "execute_result",
          "data": {
            "text/plain": [
              "tensor([[6.7688e-04, 2.8679e-05, 1.1768e-03, 1.5245e-04, 1.3751e-03, 4.5809e-05,\n",
              "         1.5421e-03, 1.5729e-04, 9.9413e-01, 7.1481e-04],\n",
              "        [5.9641e-02, 6.9818e-03, 8.9198e-01, 2.4699e-03, 1.2112e-02, 8.5269e-04,\n",
              "         2.4731e-02, 5.7376e-05, 9.9837e-04, 1.7941e-04]])"
            ]
          },
          "metadata": {},
          "execution_count": 32
        }
      ],
      "source": [
        "# Hacemos predicciones\n",
        "pred_probs = make_predictions(model=model,\n",
        "                              data=test_samples,\n",
        "                              )\n",
        "#miremos👀\n",
        "pred_probs[:2]"
      ]
    },
    {
      "cell_type": "code",
      "execution_count": 33,
      "metadata": {
        "id": "EDSPURmHw28A",
        "outputId": "649816e1-49a8-4665-837d-d964be501766",
        "colab": {
          "base_uri": "https://localhost:8080/"
        }
      },
      "outputs": [
        {
          "output_type": "execute_result",
          "data": {
            "text/plain": [
              "(tensor([8, 2, 0, 5, 6, 4, 7, 4, 6]), [8, 2, 0, 5, 6, 4, 7, 4, 3])"
            ]
          },
          "metadata": {},
          "execution_count": 33
        }
      ],
      "source": [
        "# convertimos las probabilidades a clases\n",
        "pred_class = pred_probs.argmax(dim=1)\n",
        "pred_class, test_labels"
      ]
    },
    {
      "cell_type": "code",
      "execution_count": 35,
      "metadata": {
        "id": "mWnA0nzvw4Yh",
        "outputId": "75a2d637-e506-4521-9923-65b6250be315",
        "colab": {
          "base_uri": "https://localhost:8080/",
          "height": 749
        }
      },
      "outputs": [
        {
          "output_type": "display_data",
          "data": {
            "text/plain": [
              "<Figure size 900x900 with 9 Axes>"
            ],
            "image/png": "[encoded data removed]"
          },
          "metadata": {}
        }
      ],
      "source": [
        "# NO modifiques esta celda ♥\n",
        "plt.figure(figsize=(9,9))\n",
        "nrows = 3\n",
        "ncols = 3\n",
        "for i, sample in enumerate(test_samples):\n",
        "  plt.subplot(nrows, ncols, i+1)\n",
        "\n",
        "  #plot the target image\n",
        "  plt.imshow(sample.squeeze(), cmap = \"gray\")\n",
        "\n",
        "  #find the prediction label\n",
        "  pred_label = class_names[pred_class[i]]\n",
        "\n",
        "  #get the truth label\n",
        "  truth_label = class_names[test_labels[i]]\n",
        "\n",
        "  #create a tittle for the plot\n",
        "  tittle_text = f\"pred: {pred_label} | Truth: {truth_label}\"\n",
        "  if pred_label == truth_label:\n",
        "    plt.title(tittle_text, fontsize=10,c=\"g\")\n",
        "  else:\n",
        "    plt.title(tittle_text, fontsize=10,c=\"r\")\n",
        "  plt.axis(False)"
      ]
    },
    {
      "cell_type": "markdown",
      "metadata": {
        "id": "zFYUIlLKJ-Ac"
      },
      "source": [
        "## 🏗️ Implementación de TinyVGG  \n",
        "\n",
        "Vamos a construir **TinyVGG**, una versión simplificada de **VGGNet**, ideal para tareas de clasificación de imágenes.  \n",
        "\n",
        "⚙️ **Arquitectura de TinyVGG:**  \n",
        "🔹 Capas convolucionales (`Conv2d`) para extraer características.  \n",
        "🔹 Función de activación **ReLU** para introducir no linealidad.  \n",
        "🔹 Capas de **MaxPooling** para reducir la dimensionalidad.  \n",
        "🔹 Capas totalmente conectadas (`Linear`) para clasificar.  \n"
      ]
    },
    {
      "cell_type": "code",
      "execution_count": null,
      "metadata": {
        "id": "Q_bRWVsrCzVI"
      },
      "outputs": [],
      "source": [
        "#Test yourself try to replicate tinyvgg -> https://poloclub.github.io/cnn-explainer/\n",
        "class FashionMNISTModelV2(nn.Module):\n",
        "  def __init__(self, input_shape, hidden_units, output_shape):\n",
        "    super().__init__()\n",
        "    \"\"\"\n",
        "    Model Architecture that replicates the TinyVGG\n",
        "    model from CNN explainer website\n",
        "    \"\"\"\n",
        "    self.conv_blocl_1 = nn.Sequential(\n",
        "\n",
        "    )\n",
        "    self.conv_blocl_2 = nn.Sequential(\n",
        "\n",
        "    )\n",
        "    self.classifier = nn.Sequential(\n",
        "    )\n",
        "\n",
        "  def forward(self,x):\n",
        "    x = self.conv_blocl_1(x)\n",
        "    # print(x.shape)\n",
        "    x = self.conv_blocl_2(x)\n",
        "    # print(x.shape)\n",
        "    x = self.classifier(x)\n",
        "    # print(x.shape)\n",
        "    return x"
      ]
    },
    {
      "cell_type": "code",
      "execution_count": null,
      "metadata": {
        "colab": {
          "base_uri": "https://localhost:8080/"
        },
        "id": "OzYXghxfC1n1",
        "outputId": "c8adb5e8-8e22-4a21-c8c8-40fc7d66ae94"
      },
      "outputs": [
        {
          "data": {
            "text/plain": [
              "torch.Size([1, 28, 28])"
            ]
          },
          "execution_count": 15,
          "metadata": {},
          "output_type": "execute_result"
        }
      ],
      "source": [
        "image.shape"
      ]
    },
    {
      "cell_type": "code",
      "execution_count": null,
      "metadata": {
        "colab": {
          "base_uri": "https://localhost:8080/",
          "height": 35
        },
        "id": "eNCoeHw4C8a5",
        "outputId": "540e2454-614e-4bbb-f015-0a039f95e8b4"
      },
      "outputs": [
        {
          "data": {
            "application/vnd.google.colaboratory.intrinsic+json": {
              "type": "string"
            },
            "text/plain": [
              "'cpu'"
            ]
          },
          "execution_count": 16,
          "metadata": {},
          "output_type": "execute_result"
        }
      ],
      "source": [
        "device = \"cuda\" if torch.cuda.is_available() else \"cpu\"\n",
        "device"
      ]
    },
    {
      "cell_type": "code",
      "execution_count": null,
      "metadata": {
        "id": "TMTKkcHHC6cy"
      },
      "outputs": [],
      "source": [
        "torch.manual_seed(42)\n",
        "model_2 = FashionMNISTModelV2(input_shape=1, # canales de la imagen\n",
        "                              hidden_units=10, # numero de filtros\n",
        "                              output_shape=len(class_names)\n",
        "                              ).to(device)\n",
        "# model_2.state_dict()"
      ]
    },
    {
      "cell_type": "markdown",
      "metadata": {
        "id": "iuCzQ7yPKDGR"
      },
      "source": [
        "### Loss function and optimizer"
      ]
    },
    {
      "cell_type": "code",
      "execution_count": null,
      "metadata": {
        "id": "CzvjWHVPDIGm"
      },
      "outputs": [],
      "source": [
        "loss_fn = nn.CrossEntropyLoss() # <-- ¿Por qué este?\n",
        "#cambialos si quieres\n",
        "optimizer = torch.optim.SGD(params = model_2.parameters(), lr=\"FIXME\") # < -- ¿Por qué este?"
      ]
    },
    {
      "cell_type": "code",
      "execution_count": null,
      "metadata": {
        "id": "D5V1_vDpDRPr"
      },
      "outputs": [],
      "source": [
        "# DO NOT change this\n",
        "def accuracy_fn(y_true, y_pred):\n",
        "  correct = torch.eq(y_true, y_pred).sum().item()\n",
        "  acc = (correct/len(y_pred)) * 100\n",
        "  return acc"
      ]
    },
    {
      "cell_type": "markdown",
      "metadata": {
        "id": "BYmkvHNcHpxx"
      },
      "source": [
        "##Train fuction"
      ]
    },
    {
      "cell_type": "code",
      "execution_count": null,
      "metadata": {
        "colab": {
          "base_uri": "https://localhost:8080/",
          "height": 101,
          "referenced_widgets": [
            "c0db828404604adeb42596bd97a01c6a",
            "5d5c1e9a3ce74484b94daa529aadbc6a",
            "81ca36b9233d48099bcdb05d8c61831c",
            "342f9bfc39e54485b5d3fbab076a3247",
            "a890a561a10c4a64918b02a14d53cc20",
            "d288bb5d54f14156bacced56f619cc46",
            "6378856632814f6e8936b129318b7007",
            "9c14bc2afb2e464c96c3c3e952ab5c05",
            "92ac9292267a40a3a3753687175c048c",
            "e00c9127f9e7499998206daebb98dc1f",
            "310ccfb152ec43b09aebc305a5744273"
          ]
        },
        "id": "BiT1ilDNDL9e",
        "outputId": "8257063d-2ce7-475f-8391-9d55238eaf7f"
      },
      "outputs": [
        {
          "data": {
            "application/vnd.jupyter.widget-view+json": {
              "model_id": "c0db828404604adeb42596bd97a01c6a",
              "version_major": 2,
              "version_minor": 0
            },
            "text/plain": [
              "  0%|          | 0/3 [00:00<?, ?it/s]"
            ]
          },
          "metadata": {},
          "output_type": "display_data"
        },
        {
          "name": "stdout",
          "output_type": "stream",
          "text": [
            "epoch: 0 | Train loss: 0.59518, train acc: 78.38 | Test loss: 0.39500, test acc: 85.99\n",
            "epoch: 1 | Train loss: 0.36536, train acc: 86.90 | Test loss: 0.35244, test acc: 86.91\n",
            "epoch: 2 | Train loss: 0.32588, train acc: 88.13 | Test loss: 0.32719, test acc: 88.07\n"
          ]
        }
      ],
      "source": [
        "from tqdm.auto import tqdm\n",
        "torch.manual_seed(42)\n",
        "epochs = \"FIXME\"\n",
        "\n",
        "for epoch in tqdm(range(epochs)):\n",
        "  train_loss = 0\n",
        "  train_acc = 0\n",
        "  for batch, (X_train, y_train) in enumerate(train_dataloader):\n",
        "    \"FIXME\".train()\n",
        "    X_train, y_train = X_train.to(device), y_train.to(device)\n",
        "    y_train_logits = \"FIXME\"(\"FIXME\") #forward pass\n",
        "\n",
        "    # calcula la loss\n",
        "    loss = loss_fn(y_train_logits, y_train)\n",
        "    train_loss += loss\n",
        "    train_acc += accuracy_fn(y_true = y_train, y_pred = y_train_logits.argmax(dim=1))\n",
        "    # optimizer zero grad\n",
        "    \"FIXME\"\n",
        "    # loss backward\n",
        "    \"FIXME\"\n",
        "    # optimizer step step step\n",
        "    \"FIXME\"\n",
        "  train_loss /= len(train_dataloader) # <- Why we should divide?\n",
        "  train_acc /= len(train_dataloader)\n",
        "  \"FIXME\".eval()\n",
        "  with torch.no_grad():\n",
        "    test_loss = 0\n",
        "    test_acc = 0\n",
        "    for X_test, y_test in test_dataloader:\n",
        "      X_test, y_test = X_test.to(device), y_test.to(device)\n",
        "      #do the forward pass\n",
        "      y_test_logits = \"FIXME\"(\"FIXME\")\n",
        "      #calculate the loss\n",
        "      test_loss += loss_fn(y_test_logits, y_test)\n",
        "      test_acc += accuracy_fn(y_true = y_test, y_pred = y_test_logits.argmax(dim=1))\n",
        "    test_loss /= len(\"FIXME\")\n",
        "    test_acc /= len(\"FIXME\")\n",
        "  print(f\"epoch: {epoch} | Train loss: {train_loss:.5f}, train acc: {train_acc:.2f} | Test loss: {test_loss:.5f}, test acc: {test_acc:.2f}\")"
      ]
    },
    {
      "cell_type": "code",
      "execution_count": null,
      "metadata": {
        "colab": {
          "base_uri": "https://localhost:8080/",
          "height": 101,
          "referenced_widgets": [
            "22570d51287140fc955f57d8d2a3bd12",
            "4332b9cf4c994fe29894118de4bb3ede",
            "bcb29d99ace746dfa0a80a9c9d7a49d0",
            "f38df498c2ee49989ec62263d8a80d96",
            "e575d6128bda4569b74052e75db7920e",
            "6c1e7e5b4ff747de9ae0483f24e2f70b",
            "3ab74030e483470b8adc8e7f111a4368",
            "26e3b394a95f4642bea44426f98c22c6",
            "387faf3eef2e498e8b13f901cc65e2eb",
            "b08e986ed9704e62821d28e9f208bc59",
            "a52d4fc179c14b8a9c620ac173f824f7"
          ]
        },
        "id": "i6HO9K35DtxP",
        "outputId": "e0c6baa3-c6c2-4cfd-dbc4-2fa6d608db5e"
      },
      "outputs": [
        {
          "data": {
            "application/vnd.jupyter.widget-view+json": {
              "model_id": "22570d51287140fc955f57d8d2a3bd12",
              "version_major": 2,
              "version_minor": 0
            },
            "text/plain": [
              "  0%|          | 0/313 [00:00<?, ?it/s]"
            ]
          },
          "metadata": {},
          "output_type": "display_data"
        },
        {
          "data": {
            "text/plain": [
              "{'model_name': 'FashionMNISTModelV2',\n",
              " 'model_loss': 0.32718968391418457,\n",
              " 'model_acc': 88.06908945686901}"
            ]
          },
          "execution_count": 21,
          "metadata": {},
          "output_type": "execute_result"
        }
      ],
      "source": [
        "torch.manual_seed(42)\n",
        "\n",
        "def eval_model(model:torch.nn.Module,\n",
        "               data_loader: torch.utils.data.DataLoader,\n",
        "               loss_fn: torch.nn.Module,\n",
        "               accuracy_fn):\n",
        "    \"\"\" returns a dictionary containing the results of model predicting on data_loader\"\"\"\n",
        "    loss, acc = 0, 0\n",
        "    model.eval()\n",
        "\n",
        "    with torch.no_grad():\n",
        "      for X, y in tqdm(data_loader):\n",
        "        #make predictions\n",
        "        y_pred = model(X)\n",
        "\n",
        "        # Accumulate the loss and acc values per batch\n",
        "\n",
        "        loss += loss_fn(y_pred, y)\n",
        "        acc += accuracy_fn(y_true = y, y_pred = y_pred.argmax(dim=1))\n",
        "      # scale the loss and acc to find the average loss and acc per batch\n",
        "\n",
        "      loss /= len(data_loader)\n",
        "      acc /= len(data_loader)\n",
        "    return {\"model_name\": model.__class__.__name__,\n",
        "            \"model_loss\": loss.item(),\n",
        "            \"model_acc\": acc}\n",
        "model_0_results = eval_model(model=\"FIXME\",\n",
        "                             data_loader = test_dataloader,\n",
        "                             loss_fn =  loss_fn,\n",
        "                             accuracy_fn=accuracy_fn)\n",
        "model_0_results"
      ]
    },
    {
      "cell_type": "markdown",
      "metadata": {
        "id": "sy4ffJRXOWse"
      },
      "source": [
        "# 📋 Resumen del Modelo  \n",
        "\n",
        "Después de construir nuestra red, es importante revisar su **estructura y cantidad de parámetros**.  \n",
        "\n",
        "📌 **El resumen del modelo nos muestra:**  \n",
        "🔹 Las capas de la red y sus dimensiones.  \n",
        "🔹 La cantidad de parámetros entrenables.  \n",
        "🔹 La conexión entre cada capa.  \n",
        "\n",
        "✅ En `PyTorch`, podemos usar `print(model)` o `torchsummary.summary(model, input_size=(C, H, W))` para visualizarlo.  \n"
      ]
    },
    {
      "cell_type": "code",
      "execution_count": null,
      "metadata": {
        "id": "eX3UIP4IHNxb"
      },
      "outputs": [],
      "source": [
        "%%capture\n",
        "! pip install torchinfo"
      ]
    },
    {
      "cell_type": "code",
      "execution_count": null,
      "metadata": {
        "colab": {
          "base_uri": "https://localhost:8080/"
        },
        "id": "MfRfhe2EHKoi",
        "outputId": "f611dd4c-31d9-4055-bb6f-651634c71a88"
      },
      "outputs": [
        {
          "data": {
            "text/plain": [
              "=================================================================\n",
              "Layer (type:depth-idx)                   Param #\n",
              "=================================================================\n",
              "FashionMNISTModelV2                      --\n",
              "├─Sequential: 1-1                        --\n",
              "│    └─Conv2d: 2-1                       100\n",
              "│    └─ReLU: 2-2                         --\n",
              "│    └─Conv2d: 2-3                       910\n",
              "│    └─ReLU: 2-4                         --\n",
              "│    └─MaxPool2d: 2-5                    --\n",
              "├─Sequential: 1-2                        --\n",
              "│    └─Conv2d: 2-6                       910\n",
              "│    └─ReLU: 2-7                         --\n",
              "│    └─Conv2d: 2-8                       910\n",
              "│    └─ReLU: 2-9                         --\n",
              "│    └─MaxPool2d: 2-10                   --\n",
              "├─Sequential: 1-3                        --\n",
              "│    └─Flatten: 2-11                     --\n",
              "│    └─Linear: 2-12                      4,910\n",
              "=================================================================\n",
              "Total params: 7,740\n",
              "Trainable params: 7,740\n",
              "Non-trainable params: 0\n",
              "================================================================="
            ]
          },
          "execution_count": 24,
          "metadata": {},
          "output_type": "execute_result"
        }
      ],
      "source": [
        "import torchinfo\n",
        "torchinfo.summary(\"FIXME\")"
      ]
    }
  ],
  "metadata": {
    "colab": {
      "provenance": [],
      "toc_visible": true
    },
    "kernelspec": {
      "display_name": "Python 3",
      "name": "python3"
    },
    "language_info": {
      "name": "python"
    },
    "widgets": {
      "application/vnd.jupyter.widget-state+json": {
        "22570d51287140fc955f57d8d2a3bd12": {
          "model_module": "@jupyter-widgets/controls",
          "model_module_version": "1.5.0",
          "model_name": "HBoxModel",
          "state": {
            "_dom_classes": [],
            "_model_module": "@jupyter-widgets/controls",
            "_model_module_version": "1.5.0",
            "_model_name": "HBoxModel",
            "_view_count": null,
            "_view_module": "@jupyter-widgets/controls",
            "_view_module_version": "1.5.0",
            "_view_name": "HBoxView",
            "box_style": "",
            "children": [
              "IPY_MODEL_4332b9cf4c994fe29894118de4bb3ede",
              "IPY_MODEL_bcb29d99ace746dfa0a80a9c9d7a49d0",
              "IPY_MODEL_f38df498c2ee49989ec62263d8a80d96"
            ],
            "layout": "IPY_MODEL_e575d6128bda4569b74052e75db7920e"
          }
        },
        "26e3b394a95f4642bea44426f98c22c6": {
          "model_module": "@jupyter-widgets/base",
          "model_module_version": "1.2.0",
          "model_name": "LayoutModel",
          "state": {
            "_model_module": "@jupyter-widgets/base",
            "_model_module_version": "1.2.0",
            "_model_name": "LayoutModel",
            "_view_count": null,
            "_view_module": "@jupyter-widgets/base",
            "_view_module_version": "1.2.0",
            "_view_name": "LayoutView",
            "align_content": null,
            "align_items": null,
            "align_self": null,
            "border": null,
            "bottom": null,
            "display": null,
            "flex": null,
            "flex_flow": null,
            "grid_area": null,
            "grid_auto_columns": null,
            "grid_auto_flow": null,
            "grid_auto_rows": null,
            "grid_column": null,
            "grid_gap": null,
            "grid_row": null,
            "grid_template_areas": null,
            "grid_template_columns": null,
            "grid_template_rows": null,
            "height": null,
            "justify_content": null,
            "justify_items": null,
            "left": null,
            "margin": null,
            "max_height": null,
            "max_width": null,
            "min_height": null,
            "min_width": null,
            "object_fit": null,
            "object_position": null,
            "order": null,
            "overflow": null,
            "overflow_x": null,
            "overflow_y": null,
            "padding": null,
            "right": null,
            "top": null,
            "visibility": null,
            "width": null
          }
        },
        "310ccfb152ec43b09aebc305a5744273": {
          "model_module": "@jupyter-widgets/controls",
          "model_module_version": "1.5.0",
          "model_name": "DescriptionStyleModel",
          "state": {
            "_model_module": "@jupyter-widgets/controls",
            "_model_module_version": "1.5.0",
            "_model_name": "DescriptionStyleModel",
            "_view_count": null,
            "_view_module": "@jupyter-widgets/base",
            "_view_module_version": "1.2.0",
            "_view_name": "StyleView",
            "description_width": ""
          }
        },
        "342f9bfc39e54485b5d3fbab076a3247": {
          "model_module": "@jupyter-widgets/controls",
          "model_module_version": "1.5.0",
          "model_name": "HTMLModel",
          "state": {
            "_dom_classes": [],
            "_model_module": "@jupyter-widgets/controls",
            "_model_module_version": "1.5.0",
            "_model_name": "HTMLModel",
            "_view_count": null,
            "_view_module": "@jupyter-widgets/controls",
            "_view_module_version": "1.5.0",
            "_view_name": "HTMLView",
            "description": "",
            "description_tooltip": null,
            "layout": "IPY_MODEL_e00c9127f9e7499998206daebb98dc1f",
            "placeholder": "​",
            "style": "IPY_MODEL_310ccfb152ec43b09aebc305a5744273",
            "value": " 3/3 [03:01&lt;00:00, 60.03s/it]"
          }
        },
        "387faf3eef2e498e8b13f901cc65e2eb": {
          "model_module": "@jupyter-widgets/controls",
          "model_module_version": "1.5.0",
          "model_name": "ProgressStyleModel",
          "state": {
            "_model_module": "@jupyter-widgets/controls",
            "_model_module_version": "1.5.0",
            "_model_name": "ProgressStyleModel",
            "_view_count": null,
            "_view_module": "@jupyter-widgets/base",
            "_view_module_version": "1.2.0",
            "_view_name": "StyleView",
            "bar_color": null,
            "description_width": ""
          }
        },
        "3ab74030e483470b8adc8e7f111a4368": {
          "model_module": "@jupyter-widgets/controls",
          "model_module_version": "1.5.0",
          "model_name": "DescriptionStyleModel",
          "state": {
            "_model_module": "@jupyter-widgets/controls",
            "_model_module_version": "1.5.0",
            "_model_name": "DescriptionStyleModel",
            "_view_count": null,
            "_view_module": "@jupyter-widgets/base",
            "_view_module_version": "1.2.0",
            "_view_name": "StyleView",
            "description_width": ""
          }
        },
        "4332b9cf4c994fe29894118de4bb3ede": {
          "model_module": "@jupyter-widgets/controls",
          "model_module_version": "1.5.0",
          "model_name": "HTMLModel",
          "state": {
            "_dom_classes": [],
            "_model_module": "@jupyter-widgets/controls",
            "_model_module_version": "1.5.0",
            "_model_name": "HTMLModel",
            "_view_count": null,
            "_view_module": "@jupyter-widgets/controls",
            "_view_module_version": "1.5.0",
            "_view_name": "HTMLView",
            "description": "",
            "description_tooltip": null,
            "layout": "IPY_MODEL_6c1e7e5b4ff747de9ae0483f24e2f70b",
            "placeholder": "​",
            "style": "IPY_MODEL_3ab74030e483470b8adc8e7f111a4368",
            "value": "100%"
          }
        },
        "5d5c1e9a3ce74484b94daa529aadbc6a": {
          "model_module": "@jupyter-widgets/controls",
          "model_module_version": "1.5.0",
          "model_name": "HTMLModel",
          "state": {
            "_dom_classes": [],
            "_model_module": "@jupyter-widgets/controls",
            "_model_module_version": "1.5.0",
            "_model_name": "HTMLModel",
            "_view_count": null,
            "_view_module": "@jupyter-widgets/controls",
            "_view_module_version": "1.5.0",
            "_view_name": "HTMLView",
            "description": "",
            "description_tooltip": null,
            "layout": "IPY_MODEL_d288bb5d54f14156bacced56f619cc46",
            "placeholder": "​",
            "style": "IPY_MODEL_6378856632814f6e8936b129318b7007",
            "value": "100%"
          }
        },
        "6378856632814f6e8936b129318b7007": {
          "model_module": "@jupyter-widgets/controls",
          "model_module_version": "1.5.0",
          "model_name": "DescriptionStyleModel",
          "state": {
            "_model_module": "@jupyter-widgets/controls",
            "_model_module_version": "1.5.0",
            "_model_name": "DescriptionStyleModel",
            "_view_count": null,
            "_view_module": "@jupyter-widgets/base",
            "_view_module_version": "1.2.0",
            "_view_name": "StyleView",
            "description_width": ""
          }
        },
        "6c1e7e5b4ff747de9ae0483f24e2f70b": {
          "model_module": "@jupyter-widgets/base",
          "model_module_version": "1.2.0",
          "model_name": "LayoutModel",
          "state": {
            "_model_module": "@jupyter-widgets/base",
            "_model_module_version": "1.2.0",
            "_model_name": "LayoutModel",
            "_view_count": null,
            "_view_module": "@jupyter-widgets/base",
            "_view_module_version": "1.2.0",
            "_view_name": "LayoutView",
            "align_content": null,
            "align_items": null,
            "align_self": null,
            "border": null,
            "bottom": null,
            "display": null,
            "flex": null,
            "flex_flow": null,
            "grid_area": null,
            "grid_auto_columns": null,
            "grid_auto_flow": null,
            "grid_auto_rows": null,
            "grid_column": null,
            "grid_gap": null,
            "grid_row": null,
            "grid_template_areas": null,
            "grid_template_columns": null,
            "grid_template_rows": null,
            "height": null,
            "justify_content": null,
            "justify_items": null,
            "left": null,
            "margin": null,
            "max_height": null,
            "max_width": null,
            "min_height": null,
            "min_width": null,
            "object_fit": null,
            "object_position": null,
            "order": null,
            "overflow": null,
            "overflow_x": null,
            "overflow_y": null,
            "padding": null,
            "right": null,
            "top": null,
            "visibility": null,
            "width": null
          }
        },
        "81ca36b9233d48099bcdb05d8c61831c": {
          "model_module": "@jupyter-widgets/controls",
          "model_module_version": "1.5.0",
          "model_name": "FloatProgressModel",
          "state": {
            "_dom_classes": [],
            "_model_module": "@jupyter-widgets/controls",
            "_model_module_version": "1.5.0",
            "_model_name": "FloatProgressModel",
            "_view_count": null,
            "_view_module": "@jupyter-widgets/controls",
            "_view_module_version": "1.5.0",
            "_view_name": "ProgressView",
            "bar_style": "success",
            "description": "",
            "description_tooltip": null,
            "layout": "IPY_MODEL_9c14bc2afb2e464c96c3c3e952ab5c05",
            "max": 3,
            "min": 0,
            "orientation": "horizontal",
            "style": "IPY_MODEL_92ac9292267a40a3a3753687175c048c",
            "value": 3
          }
        },
        "92ac9292267a40a3a3753687175c048c": {
          "model_module": "@jupyter-widgets/controls",
          "model_module_version": "1.5.0",
          "model_name": "ProgressStyleModel",
          "state": {
            "_model_module": "@jupyter-widgets/controls",
            "_model_module_version": "1.5.0",
            "_model_name": "ProgressStyleModel",
            "_view_count": null,
            "_view_module": "@jupyter-widgets/base",
            "_view_module_version": "1.2.0",
            "_view_name": "StyleView",
            "bar_color": null,
            "description_width": ""
          }
        },
        "9c14bc2afb2e464c96c3c3e952ab5c05": {
          "model_module": "@jupyter-widgets/base",
          "model_module_version": "1.2.0",
          "model_name": "LayoutModel",
          "state": {
            "_model_module": "@jupyter-widgets/base",
            "_model_module_version": "1.2.0",
            "_model_name": "LayoutModel",
            "_view_count": null,
            "_view_module": "@jupyter-widgets/base",
            "_view_module_version": "1.2.0",
            "_view_name": "LayoutView",
            "align_content": null,
            "align_items": null,
            "align_self": null,
            "border": null,
            "bottom": null,
            "display": null,
            "flex": null,
            "flex_flow": null,
            "grid_area": null,
            "grid_auto_columns": null,
            "grid_auto_flow": null,
            "grid_auto_rows": null,
            "grid_column": null,
            "grid_gap": null,
            "grid_row": null,
            "grid_template_areas": null,
            "grid_template_columns": null,
            "grid_template_rows": null,
            "height": null,
            "justify_content": null,
            "justify_items": null,
            "left": null,
            "margin": null,
            "max_height": null,
            "max_width": null,
            "min_height": null,
            "min_width": null,
            "object_fit": null,
            "object_position": null,
            "order": null,
            "overflow": null,
            "overflow_x": null,
            "overflow_y": null,
            "padding": null,
            "right": null,
            "top": null,
            "visibility": null,
            "width": null
          }
        },
        "a52d4fc179c14b8a9c620ac173f824f7": {
          "model_module": "@jupyter-widgets/controls",
          "model_module_version": "1.5.0",
          "model_name": "DescriptionStyleModel",
          "state": {
            "_model_module": "@jupyter-widgets/controls",
            "_model_module_version": "1.5.0",
            "_model_name": "DescriptionStyleModel",
            "_view_count": null,
            "_view_module": "@jupyter-widgets/base",
            "_view_module_version": "1.2.0",
            "_view_name": "StyleView",
            "description_width": ""
          }
        },
        "a890a561a10c4a64918b02a14d53cc20": {
          "model_module": "@jupyter-widgets/base",
          "model_module_version": "1.2.0",
          "model_name": "LayoutModel",
          "state": {
            "_model_module": "@jupyter-widgets/base",
            "_model_module_version": "1.2.0",
            "_model_name": "LayoutModel",
            "_view_count": null,
            "_view_module": "@jupyter-widgets/base",
            "_view_module_version": "1.2.0",
            "_view_name": "LayoutView",
            "align_content": null,
            "align_items": null,
            "align_self": null,
            "border": null,
            "bottom": null,
            "display": null,
            "flex": null,
            "flex_flow": null,
            "grid_area": null,
            "grid_auto_columns": null,
            "grid_auto_flow": null,
            "grid_auto_rows": null,
            "grid_column": null,
            "grid_gap": null,
            "grid_row": null,
            "grid_template_areas": null,
            "grid_template_columns": null,
            "grid_template_rows": null,
            "height": null,
            "justify_content": null,
            "justify_items": null,
            "left": null,
            "margin": null,
            "max_height": null,
            "max_width": null,
            "min_height": null,
            "min_width": null,
            "object_fit": null,
            "object_position": null,
            "order": null,
            "overflow": null,
            "overflow_x": null,
            "overflow_y": null,
            "padding": null,
            "right": null,
            "top": null,
            "visibility": null,
            "width": null
          }
        },
        "b08e986ed9704e62821d28e9f208bc59": {
          "model_module": "@jupyter-widgets/base",
          "model_module_version": "1.2.0",
          "model_name": "LayoutModel",
          "state": {
            "_model_module": "@jupyter-widgets/base",
            "_model_module_version": "1.2.0",
            "_model_name": "LayoutModel",
            "_view_count": null,
            "_view_module": "@jupyter-widgets/base",
            "_view_module_version": "1.2.0",
            "_view_name": "LayoutView",
            "align_content": null,
            "align_items": null,
            "align_self": null,
            "border": null,
            "bottom": null,
            "display": null,
            "flex": null,
            "flex_flow": null,
            "grid_area": null,
            "grid_auto_columns": null,
            "grid_auto_flow": null,
            "grid_auto_rows": null,
            "grid_column": null,
            "grid_gap": null,
            "grid_row": null,
            "grid_template_areas": null,
            "grid_template_columns": null,
            "grid_template_rows": null,
            "height": null,
            "justify_content": null,
            "justify_items": null,
            "left": null,
            "margin": null,
            "max_height": null,
            "max_width": null,
            "min_height": null,
            "min_width": null,
            "object_fit": null,
            "object_position": null,
            "order": null,
            "overflow": null,
            "overflow_x": null,
            "overflow_y": null,
            "padding": null,
            "right": null,
            "top": null,
            "visibility": null,
            "width": null
          }
        },
        "bcb29d99ace746dfa0a80a9c9d7a49d0": {
          "model_module": "@jupyter-widgets/controls",
          "model_module_version": "1.5.0",
          "model_name": "FloatProgressModel",
          "state": {
            "_dom_classes": [],
            "_model_module": "@jupyter-widgets/controls",
            "_model_module_version": "1.5.0",
            "_model_name": "FloatProgressModel",
            "_view_count": null,
            "_view_module": "@jupyter-widgets/controls",
            "_view_module_version": "1.5.0",
            "_view_name": "ProgressView",
            "bar_style": "success",
            "description": "",
            "description_tooltip": null,
            "layout": "IPY_MODEL_26e3b394a95f4642bea44426f98c22c6",
            "max": 313,
            "min": 0,
            "orientation": "horizontal",
            "style": "IPY_MODEL_387faf3eef2e498e8b13f901cc65e2eb",
            "value": 313
          }
        },
        "c0db828404604adeb42596bd97a01c6a": {
          "model_module": "@jupyter-widgets/controls",
          "model_module_version": "1.5.0",
          "model_name": "HBoxModel",
          "state": {
            "_dom_classes": [],
            "_model_module": "@jupyter-widgets/controls",
            "_model_module_version": "1.5.0",
            "_model_name": "HBoxModel",
            "_view_count": null,
            "_view_module": "@jupyter-widgets/controls",
            "_view_module_version": "1.5.0",
            "_view_name": "HBoxView",
            "box_style": "",
            "children": [
              "IPY_MODEL_5d5c1e9a3ce74484b94daa529aadbc6a",
              "IPY_MODEL_81ca36b9233d48099bcdb05d8c61831c",
              "IPY_MODEL_342f9bfc39e54485b5d3fbab076a3247"
            ],
            "layout": "IPY_MODEL_a890a561a10c4a64918b02a14d53cc20"
          }
        },
        "d288bb5d54f14156bacced56f619cc46": {
          "model_module": "@jupyter-widgets/base",
          "model_module_version": "1.2.0",
          "model_name": "LayoutModel",
          "state": {
            "_model_module": "@jupyter-widgets/base",
            "_model_module_version": "1.2.0",
            "_model_name": "LayoutModel",
            "_view_count": null,
            "_view_module": "@jupyter-widgets/base",
            "_view_module_version": "1.2.0",
            "_view_name": "LayoutView",
            "align_content": null,
            "align_items": null,
            "align_self": null,
            "border": null,
            "bottom": null,
            "display": null,
            "flex": null,
            "flex_flow": null,
            "grid_area": null,
            "grid_auto_columns": null,
            "grid_auto_flow": null,
            "grid_auto_rows": null,
            "grid_column": null,
            "grid_gap": null,
            "grid_row": null,
            "grid_template_areas": null,
            "grid_template_columns": null,
            "grid_template_rows": null,
            "height": null,
            "justify_content": null,
            "justify_items": null,
            "left": null,
            "margin": null,
            "max_height": null,
            "max_width": null,
            "min_height": null,
            "min_width": null,
            "object_fit": null,
            "object_position": null,
            "order": null,
            "overflow": null,
            "overflow_x": null,
            "overflow_y": null,
            "padding": null,
            "right": null,
            "top": null,
            "visibility": null,
            "width": null
          }
        },
        "e00c9127f9e7499998206daebb98dc1f": {
          "model_module": "@jupyter-widgets/base",
          "model_module_version": "1.2.0",
          "model_name": "LayoutModel",
          "state": {
            "_model_module": "@jupyter-widgets/base",
            "_model_module_version": "1.2.0",
            "_model_name": "LayoutModel",
            "_view_count": null,
            "_view_module": "@jupyter-widgets/base",
            "_view_module_version": "1.2.0",
            "_view_name": "LayoutView",
            "align_content": null,
            "align_items": null,
            "align_self": null,
            "border": null,
            "bottom": null,
            "display": null,
            "flex": null,
            "flex_flow": null,
            "grid_area": null,
            "grid_auto_columns": null,
            "grid_auto_flow": null,
            "grid_auto_rows": null,
            "grid_column": null,
            "grid_gap": null,
            "grid_row": null,
            "grid_template_areas": null,
            "grid_template_columns": null,
            "grid_template_rows": null,
            "height": null,
            "justify_content": null,
            "justify_items": null,
            "left": null,
            "margin": null,
            "max_height": null,
            "max_width": null,
            "min_height": null,
            "min_width": null,
            "object_fit": null,
            "object_position": null,
            "order": null,
            "overflow": null,
            "overflow_x": null,
            "overflow_y": null,
            "padding": null,
            "right": null,
            "top": null,
            "visibility": null,
            "width": null
          }
        },
        "e575d6128bda4569b74052e75db7920e": {
          "model_module": "@jupyter-widgets/base",
          "model_module_version": "1.2.0",
          "model_name": "LayoutModel",
          "state": {
            "_model_module": "@jupyter-widgets/base",
            "_model_module_version": "1.2.0",
            "_model_name": "LayoutModel",
            "_view_count": null,
            "_view_module": "@jupyter-widgets/base",
            "_view_module_version": "1.2.0",
            "_view_name": "LayoutView",
            "align_content": null,
            "align_items": null,
            "align_self": null,
            "border": null,
            "bottom": null,
            "display": null,
            "flex": null,
            "flex_flow": null,
            "grid_area": null,
            "grid_auto_columns": null,
            "grid_auto_flow": null,
            "grid_auto_rows": null,
            "grid_column": null,
            "grid_gap": null,
            "grid_row": null,
            "grid_template_areas": null,
            "grid_template_columns": null,
            "grid_template_rows": null,
            "height": null,
            "justify_content": null,
            "justify_items": null,
            "left": null,
            "margin": null,
            "max_height": null,
            "max_width": null,
            "min_height": null,
            "min_width": null,
            "object_fit": null,
            "object_position": null,
            "order": null,
            "overflow": null,
            "overflow_x": null,
            "overflow_y": null,
            "padding": null,
            "right": null,
            "top": null,
            "visibility": null,
            "width": null
          }
        },
        "f38df498c2ee49989ec62263d8a80d96": {
          "model_module": "@jupyter-widgets/controls",
          "model_module_version": "1.5.0",
          "model_name": "HTMLModel",
          "state": {
            "_dom_classes": [],
            "_model_module": "@jupyter-widgets/controls",
            "_model_module_version": "1.5.0",
            "_model_name": "HTMLModel",
            "_view_count": null,
            "_view_module": "@jupyter-widgets/controls",
            "_view_module_version": "1.5.0",
            "_view_name": "HTMLView",
            "description": "",
            "description_tooltip": null,
            "layout": "IPY_MODEL_b08e986ed9704e62821d28e9f208bc59",
            "placeholder": "​",
            "style": "IPY_MODEL_a52d4fc179c14b8a9c620ac173f824f7",
            "value": " 313/313 [00:05&lt;00:00, 49.62it/s]"
          }
        },
        "a2020ac139fd427785010a07e56a0103": {
          "model_module": "@jupyter-widgets/controls",
          "model_name": "HBoxModel",
          "model_module_version": "1.5.0",
          "state": {
            "_dom_classes": [],
            "_model_module": "@jupyter-widgets/controls",
            "_model_module_version": "1.5.0",
            "_model_name": "HBoxModel",
            "_view_count": null,
            "_view_module": "@jupyter-widgets/controls",
            "_view_module_version": "1.5.0",
            "_view_name": "HBoxView",
            "box_style": "",
            "children": [
              "IPY_MODEL_d906e3bcb43e4efaab4430b1ccde2e8e",
              "IPY_MODEL_fe0c84f62ec4419ab7d3aceec305b546",
              "IPY_MODEL_f302b83e6411410fabb8f46018267933"
            ],
            "layout": "IPY_MODEL_90054b0ccd93489eb106542e9b2abb45"
          }
        },
        "d906e3bcb43e4efaab4430b1ccde2e8e": {
          "model_module": "@jupyter-widgets/controls",
          "model_name": "HTMLModel",
          "model_module_version": "1.5.0",
          "state": {
            "_dom_classes": [],
            "_model_module": "@jupyter-widgets/controls",
            "_model_module_version": "1.5.0",
            "_model_name": "HTMLModel",
            "_view_count": null,
            "_view_module": "@jupyter-widgets/controls",
            "_view_module_version": "1.5.0",
            "_view_name": "HTMLView",
            "description": "",
            "description_tooltip": null,
            "layout": "IPY_MODEL_219f94e3fb844560a12090f4b41430de",
            "placeholder": "​",
            "style": "IPY_MODEL_3226c83864b74f36933040693b4d848a",
            "value": "100%"
          }
        },
        "fe0c84f62ec4419ab7d3aceec305b546": {
          "model_module": "@jupyter-widgets/controls",
          "model_name": "FloatProgressModel",
          "model_module_version": "1.5.0",
          "state": {
            "_dom_classes": [],
            "_model_module": "@jupyter-widgets/controls",
            "_model_module_version": "1.5.0",
            "_model_name": "FloatProgressModel",
            "_view_count": null,
            "_view_module": "@jupyter-widgets/controls",
            "_view_module_version": "1.5.0",
            "_view_name": "ProgressView",
            "bar_style": "success",
            "description": "",
            "description_tooltip": null,
            "layout": "IPY_MODEL_821121717bd241d7b76228386a1717c7",
            "max": 1,
            "min": 0,
            "orientation": "horizontal",
            "style": "IPY_MODEL_2f069f947233462c8099ff25ab55d6a9",
            "value": 1
          }
        },
        "f302b83e6411410fabb8f46018267933": {
          "model_module": "@jupyter-widgets/controls",
          "model_name": "HTMLModel",
          "model_module_version": "1.5.0",
          "state": {
            "_dom_classes": [],
            "_model_module": "@jupyter-widgets/controls",
            "_model_module_version": "1.5.0",
            "_model_name": "HTMLModel",
            "_view_count": null,
            "_view_module": "@jupyter-widgets/controls",
            "_view_module_version": "1.5.0",
            "_view_name": "HTMLView",
            "description": "",
            "description_tooltip": null,
            "layout": "IPY_MODEL_e3b6222becd74c6e8895e34c63f67453",
            "placeholder": "​",
            "style": "IPY_MODEL_3e7f0c5f97d844c588b18d0293502b29",
            "value": " 1/1 [01:42&lt;00:00, 102.29s/it]"
          }
        },
        "90054b0ccd93489eb106542e9b2abb45": {
          "model_module": "@jupyter-widgets/base",
          "model_name": "LayoutModel",
          "model_module_version": "1.2.0",
          "state": {
            "_model_module": "@jupyter-widgets/base",
            "_model_module_version": "1.2.0",
            "_model_name": "LayoutModel",
            "_view_count": null,
            "_view_module": "@jupyter-widgets/base",
            "_view_module_version": "1.2.0",
            "_view_name": "LayoutView",
            "align_content": null,
            "align_items": null,
            "align_self": null,
            "border": null,
            "bottom": null,
            "display": null,
            "flex": null,
            "flex_flow": null,
            "grid_area": null,
            "grid_auto_columns": null,
            "grid_auto_flow": null,
            "grid_auto_rows": null,
            "grid_column": null,
            "grid_gap": null,
            "grid_row": null,
            "grid_template_areas": null,
            "grid_template_columns": null,
            "grid_template_rows": null,
            "height": null,
            "justify_content": null,
            "justify_items": null,
            "left": null,
            "margin": null,
            "max_height": null,
            "max_width": null,
            "min_height": null,
            "min_width": null,
            "object_fit": null,
            "object_position": null,
            "order": null,
            "overflow": null,
            "overflow_x": null,
            "overflow_y": null,
            "padding": null,
            "right": null,
            "top": null,
            "visibility": null,
            "width": null
          }
        },
        "219f94e3fb844560a12090f4b41430de": {
          "model_module": "@jupyter-widgets/base",
          "model_name": "LayoutModel",
          "model_module_version": "1.2.0",
          "state": {
            "_model_module": "@jupyter-widgets/base",
            "_model_module_version": "1.2.0",
            "_model_name": "LayoutModel",
            "_view_count": null,
            "_view_module": "@jupyter-widgets/base",
            "_view_module_version": "1.2.0",
            "_view_name": "LayoutView",
            "align_content": null,
            "align_items": null,
            "align_self": null,
            "border": null,
            "bottom": null,
            "display": null,
            "flex": null,
            "flex_flow": null,
            "grid_area": null,
            "grid_auto_columns": null,
            "grid_auto_flow": null,
            "grid_auto_rows": null,
            "grid_column": null,
            "grid_gap": null,
            "grid_row": null,
            "grid_template_areas": null,
            "grid_template_columns": null,
            "grid_template_rows": null,
            "height": null,
            "justify_content": null,
            "justify_items": null,
            "left": null,
            "margin": null,
            "max_height": null,
            "max_width": null,
            "min_height": null,
            "min_width": null,
            "object_fit": null,
            "object_position": null,
            "order": null,
            "overflow": null,
            "overflow_x": null,
            "overflow_y": null,
            "padding": null,
            "right": null,
            "top": null,
            "visibility": null,
            "width": null
          }
        },
        "3226c83864b74f36933040693b4d848a": {
          "model_module": "@jupyter-widgets/controls",
          "model_name": "DescriptionStyleModel",
          "model_module_version": "1.5.0",
          "state": {
            "_model_module": "@jupyter-widgets/controls",
            "_model_module_version": "1.5.0",
            "_model_name": "DescriptionStyleModel",
            "_view_count": null,
            "_view_module": "@jupyter-widgets/base",
            "_view_module_version": "1.2.0",
            "_view_name": "StyleView",
            "description_width": ""
          }
        },
        "821121717bd241d7b76228386a1717c7": {
          "model_module": "@jupyter-widgets/base",
          "model_name": "LayoutModel",
          "model_module_version": "1.2.0",
          "state": {
            "_model_module": "@jupyter-widgets/base",
            "_model_module_version": "1.2.0",
            "_model_name": "LayoutModel",
            "_view_count": null,
            "_view_module": "@jupyter-widgets/base",
            "_view_module_version": "1.2.0",
            "_view_name": "LayoutView",
            "align_content": null,
            "align_items": null,
            "align_self": null,
            "border": null,
            "bottom": null,
            "display": null,
            "flex": null,
            "flex_flow": null,
            "grid_area": null,
            "grid_auto_columns": null,
            "grid_auto_flow": null,
            "grid_auto_rows": null,
            "grid_column": null,
            "grid_gap": null,
            "grid_row": null,
            "grid_template_areas": null,
            "grid_template_columns": null,
            "grid_template_rows": null,
            "height": null,
            "justify_content": null,
            "justify_items": null,
            "left": null,
            "margin": null,
            "max_height": null,
            "max_width": null,
            "min_height": null,
            "min_width": null,
            "object_fit": null,
            "object_position": null,
            "order": null,
            "overflow": null,
            "overflow_x": null,
            "overflow_y": null,
            "padding": null,
            "right": null,
            "top": null,
            "visibility": null,
            "width": null
          }
        },
        "2f069f947233462c8099ff25ab55d6a9": {
          "model_module": "@jupyter-widgets/controls",
          "model_name": "ProgressStyleModel",
          "model_module_version": "1.5.0",
          "state": {
            "_model_module": "@jupyter-widgets/controls",
            "_model_module_version": "1.5.0",
            "_model_name": "ProgressStyleModel",
            "_view_count": null,
            "_view_module": "@jupyter-widgets/base",
            "_view_module_version": "1.2.0",
            "_view_name": "StyleView",
            "bar_color": null,
            "description_width": ""
          }
        },
        "e3b6222becd74c6e8895e34c63f67453": {
          "model_module": "@jupyter-widgets/base",
          "model_name": "LayoutModel",
          "model_module_version": "1.2.0",
          "state": {
            "_model_module": "@jupyter-widgets/base",
            "_model_module_version": "1.2.0",
            "_model_name": "LayoutModel",
            "_view_count": null,
            "_view_module": "@jupyter-widgets/base",
            "_view_module_version": "1.2.0",
            "_view_name": "LayoutView",
            "align_content": null,
            "align_items": null,
            "align_self": null,
            "border": null,
            "bottom": null,
            "display": null,
            "flex": null,
            "flex_flow": null,
            "grid_area": null,
            "grid_auto_columns": null,
            "grid_auto_flow": null,
            "grid_auto_rows": null,
            "grid_column": null,
            "grid_gap": null,
            "grid_row": null,
            "grid_template_areas": null,
            "grid_template_columns": null,
            "grid_template_rows": null,
            "height": null,
            "justify_content": null,
            "justify_items": null,
            "left": null,
            "margin": null,
            "max_height": null,
            "max_width": null,
            "min_height": null,
            "min_width": null,
            "object_fit": null,
            "object_position": null,
            "order": null,
            "overflow": null,
            "overflow_x": null,
            "overflow_y": null,
            "padding": null,
            "right": null,
            "top": null,
            "visibility": null,
            "width": null
          }
        },
        "3e7f0c5f97d844c588b18d0293502b29": {
          "model_module": "@jupyter-widgets/controls",
          "model_name": "DescriptionStyleModel",
          "model_module_version": "1.5.0",
          "state": {
            "_model_module": "@jupyter-widgets/controls",
            "_model_module_version": "1.5.0",
            "_model_name": "DescriptionStyleModel",
            "_view_count": null,
            "_view_module": "@jupyter-widgets/base",
            "_view_module_version": "1.2.0",
            "_view_name": "StyleView",
            "description_width": ""
          }
        },
        "1af0e4199c874f64add2c59a6d5491e0": {
          "model_module": "@jupyter-widgets/controls",
          "model_name": "HBoxModel",
          "model_module_version": "1.5.0",
          "state": {
            "_dom_classes": [],
            "_model_module": "@jupyter-widgets/controls",
            "_model_module_version": "1.5.0",
            "_model_name": "HBoxModel",
            "_view_count": null,
            "_view_module": "@jupyter-widgets/controls",
            "_view_module_version": "1.5.0",
            "_view_name": "HBoxView",
            "box_style": "",
            "children": [
              "IPY_MODEL_2b385f31e215445dba8b3df1bb102509",
              "IPY_MODEL_a8202776b46c449e95240d63bfe90896",
              "IPY_MODEL_4973a8a0bf5f45d8a4c1d50008f76c3f"
            ],
            "layout": "IPY_MODEL_795b6edd76bb43f08aabf35f4bf2fb5b"
          }
        },
        "2b385f31e215445dba8b3df1bb102509": {
          "model_module": "@jupyter-widgets/controls",
          "model_name": "HTMLModel",
          "model_module_version": "1.5.0",
          "state": {
            "_dom_classes": [],
            "_model_module": "@jupyter-widgets/controls",
            "_model_module_version": "1.5.0",
            "_model_name": "HTMLModel",
            "_view_count": null,
            "_view_module": "@jupyter-widgets/controls",
            "_view_module_version": "1.5.0",
            "_view_name": "HTMLView",
            "description": "",
            "description_tooltip": null,
            "layout": "IPY_MODEL_0530204519e8419791e62bef1c205c0c",
            "placeholder": "​",
            "style": "IPY_MODEL_7e9b2689a6ee4345a0f58d34dc906c02",
            "value": "100%"
          }
        },
        "a8202776b46c449e95240d63bfe90896": {
          "model_module": "@jupyter-widgets/controls",
          "model_name": "FloatProgressModel",
          "model_module_version": "1.5.0",
          "state": {
            "_dom_classes": [],
            "_model_module": "@jupyter-widgets/controls",
            "_model_module_version": "1.5.0",
            "_model_name": "FloatProgressModel",
            "_view_count": null,
            "_view_module": "@jupyter-widgets/controls",
            "_view_module_version": "1.5.0",
            "_view_name": "ProgressView",
            "bar_style": "success",
            "description": "",
            "description_tooltip": null,
            "layout": "IPY_MODEL_1212c95a4fbd4cb5bb4bab9c116686f0",
            "max": 313,
            "min": 0,
            "orientation": "horizontal",
            "style": "IPY_MODEL_5811058914bb460e94d167f9cd419397",
            "value": 313
          }
        },
        "4973a8a0bf5f45d8a4c1d50008f76c3f": {
          "model_module": "@jupyter-widgets/controls",
          "model_name": "HTMLModel",
          "model_module_version": "1.5.0",
          "state": {
            "_dom_classes": [],
            "_model_module": "@jupyter-widgets/controls",
            "_model_module_version": "1.5.0",
            "_model_name": "HTMLModel",
            "_view_count": null,
            "_view_module": "@jupyter-widgets/controls",
            "_view_module_version": "1.5.0",
            "_view_name": "HTMLView",
            "description": "",
            "description_tooltip": null,
            "layout": "IPY_MODEL_8dffb861a4f640cdb48ecfa66f5225cd",
            "placeholder": "​",
            "style": "IPY_MODEL_9f4a264fb161474c84a7d6cbd8c6b0b4",
            "value": " 313/313 [00:05&lt;00:00, 54.92it/s]"
          }
        },
        "795b6edd76bb43f08aabf35f4bf2fb5b": {
          "model_module": "@jupyter-widgets/base",
          "model_name": "LayoutModel",
          "model_module_version": "1.2.0",
          "state": {
            "_model_module": "@jupyter-widgets/base",
            "_model_module_version": "1.2.0",
            "_model_name": "LayoutModel",
            "_view_count": null,
            "_view_module": "@jupyter-widgets/base",
            "_view_module_version": "1.2.0",
            "_view_name": "LayoutView",
            "align_content": null,
            "align_items": null,
            "align_self": null,
            "border": null,
            "bottom": null,
            "display": null,
            "flex": null,
            "flex_flow": null,
            "grid_area": null,
            "grid_auto_columns": null,
            "grid_auto_flow": null,
            "grid_auto_rows": null,
            "grid_column": null,
            "grid_gap": null,
            "grid_row": null,
            "grid_template_areas": null,
            "grid_template_columns": null,
            "grid_template_rows": null,
            "height": null,
            "justify_content": null,
            "justify_items": null,
            "left": null,
            "margin": null,
            "max_height": null,
            "max_width": null,
            "min_height": null,
            "min_width": null,
            "object_fit": null,
            "object_position": null,
            "order": null,
            "overflow": null,
            "overflow_x": null,
            "overflow_y": null,
            "padding": null,
            "right": null,
            "top": null,
            "visibility": null,
            "width": null
          }
        },
        "0530204519e8419791e62bef1c205c0c": {
          "model_module": "@jupyter-widgets/base",
          "model_name": "LayoutModel",
          "model_module_version": "1.2.0",
          "state": {
            "_model_module": "@jupyter-widgets/base",
            "_model_module_version": "1.2.0",
            "_model_name": "LayoutModel",
            "_view_count": null,
            "_view_module": "@jupyter-widgets/base",
            "_view_module_version": "1.2.0",
            "_view_name": "LayoutView",
            "align_content": null,
            "align_items": null,
            "align_self": null,
            "border": null,
            "bottom": null,
            "display": null,
            "flex": null,
            "flex_flow": null,
            "grid_area": null,
            "grid_auto_columns": null,
            "grid_auto_flow": null,
            "grid_auto_rows": null,
            "grid_column": null,
            "grid_gap": null,
            "grid_row": null,
            "grid_template_areas": null,
            "grid_template_columns": null,
            "grid_template_rows": null,
            "height": null,
            "justify_content": null,
            "justify_items": null,
            "left": null,
            "margin": null,
            "max_height": null,
            "max_width": null,
            "min_height": null,
            "min_width": null,
            "object_fit": null,
            "object_position": null,
            "order": null,
            "overflow": null,
            "overflow_x": null,
            "overflow_y": null,
            "padding": null,
            "right": null,
            "top": null,
            "visibility": null,
            "width": null
          }
        },
        "7e9b2689a6ee4345a0f58d34dc906c02": {
          "model_module": "@jupyter-widgets/controls",
          "model_name": "DescriptionStyleModel",
          "model_module_version": "1.5.0",
          "state": {
            "_model_module": "@jupyter-widgets/controls",
            "_model_module_version": "1.5.0",
            "_model_name": "DescriptionStyleModel",
            "_view_count": null,
            "_view_module": "@jupyter-widgets/base",
            "_view_module_version": "1.2.0",
            "_view_name": "StyleView",
            "description_width": ""
          }
        },
        "1212c95a4fbd4cb5bb4bab9c116686f0": {
          "model_module": "@jupyter-widgets/base",
          "model_name": "LayoutModel",
          "model_module_version": "1.2.0",
          "state": {
            "_model_module": "@jupyter-widgets/base",
            "_model_module_version": "1.2.0",
            "_model_name": "LayoutModel",
            "_view_count": null,
            "_view_module": "@jupyter-widgets/base",
            "_view_module_version": "1.2.0",
            "_view_name": "LayoutView",
            "align_content": null,
            "align_items": null,
            "align_self": null,
            "border": null,
            "bottom": null,
            "display": null,
            "flex": null,
            "flex_flow": null,
            "grid_area": null,
            "grid_auto_columns": null,
            "grid_auto_flow": null,
            "grid_auto_rows": null,
            "grid_column": null,
            "grid_gap": null,
            "grid_row": null,
            "grid_template_areas": null,
            "grid_template_columns": null,
            "grid_template_rows": null,
            "height": null,
            "justify_content": null,
            "justify_items": null,
            "left": null,
            "margin": null,
            "max_height": null,
            "max_width": null,
            "min_height": null,
            "min_width": null,
            "object_fit": null,
            "object_position": null,
            "order": null,
            "overflow": null,
            "overflow_x": null,
            "overflow_y": null,
            "padding": null,
            "right": null,
            "top": null,
            "visibility": null,
            "width": null
          }
        },
        "5811058914bb460e94d167f9cd419397": {
          "model_module": "@jupyter-widgets/controls",
          "model_name": "ProgressStyleModel",
          "model_module_version": "1.5.0",
          "state": {
            "_model_module": "@jupyter-widgets/controls",
            "_model_module_version": "1.5.0",
            "_model_name": "ProgressStyleModel",
            "_view_count": null,
            "_view_module": "@jupyter-widgets/base",
            "_view_module_version": "1.2.0",
            "_view_name": "StyleView",
            "bar_color": null,
            "description_width": ""
          }
        },
        "8dffb861a4f640cdb48ecfa66f5225cd": {
          "model_module": "@jupyter-widgets/base",
          "model_name": "LayoutModel",
          "model_module_version": "1.2.0",
          "state": {
            "_model_module": "@jupyter-widgets/base",
            "_model_module_version": "1.2.0",
            "_model_name": "LayoutModel",
            "_view_count": null,
            "_view_module": "@jupyter-widgets/base",
            "_view_module_version": "1.2.0",
            "_view_name": "LayoutView",
            "align_content": null,
            "align_items": null,
            "align_self": null,
            "border": null,
            "bottom": null,
            "display": null,
            "flex": null,
            "flex_flow": null,
            "grid_area": null,
            "grid_auto_columns": null,
            "grid_auto_flow": null,
            "grid_auto_rows": null,
            "grid_column": null,
            "grid_gap": null,
            "grid_row": null,
            "grid_template_areas": null,
            "grid_template_columns": null,
            "grid_template_rows": null,
            "height": null,
            "justify_content": null,
            "justify_items": null,
            "left": null,
            "margin": null,
            "max_height": null,
            "max_width": null,
            "min_height": null,
            "min_width": null,
            "object_fit": null,
            "object_position": null,
            "order": null,
            "overflow": null,
            "overflow_x": null,
            "overflow_y": null,
            "padding": null,
            "right": null,
            "top": null,
            "visibility": null,
            "width": null
          }
        },
        "9f4a264fb161474c84a7d6cbd8c6b0b4": {
          "model_module": "@jupyter-widgets/controls",
          "model_name": "DescriptionStyleModel",
          "model_module_version": "1.5.0",
          "state": {
            "_model_module": "@jupyter-widgets/controls",
            "_model_module_version": "1.5.0",
            "_model_name": "DescriptionStyleModel",
            "_view_count": null,
            "_view_module": "@jupyter-widgets/base",
            "_view_module_version": "1.2.0",
            "_view_name": "StyleView",
            "description_width": ""
          }
        }
      }
    }
  },
  "nbformat": 4,
  "nbformat_minor": 0
}